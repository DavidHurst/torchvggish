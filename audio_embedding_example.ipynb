{
 "cells": [
  {
   "cell_type": "code",
   "execution_count": 1,
   "metadata": {
    "collapsed": true,
    "pycharm": {
     "is_executing": false,
     "name": "#%%\n"
    }
   },
   "outputs": [],
   "source": [
    "\"\"\"\n",
    "Example for processing a given wav file using torchvggish. Ensure you have the vggish_pca_params.npz file provided by\n",
    "tensorflow authors, as well as the files provided by audioset.\n",
    "\"\"\"\n",
    "\n",
    "import mel_features\n",
    "import vggish_params \n",
    "import vggish_input\n",
    "import vggish_postprocess\n",
    "import vggish\n",
    "import torch\n",
    "\n",
    "!curl https://raw.githubusercontent.com/IBM/MAX-Audio-Classifier/master/assets/piano.wav --output piano.wav"
   ]
  },
  {
   "cell_type": "code",
   "execution_count": 2,
   "metadata": {
    "pycharm": {
     "is_executing": false,
     "name": "#%%\n"
    }
   },
   "outputs": [],
   "source": [
    "# Preprocess input wavfile \n",
    "examples = vggish_input.wavfile_to_examples(\"piano.wav\")\n",
    "examples = examples[:,None,:,:] # add dummy dimension for \"channel\"\n",
    "examples = torch.from_numpy(examples).float() # Convert input example to float rather than double"
   ]
  },
  {
   "cell_type": "code",
   "execution_count": 3,
   "metadata": {
    "pycharm": {
     "is_executing": false,
     "name": "#%%\n"
    }
   },
   "outputs": [],
   "source": [
    "# Initialise pretrained vggish & forward pass\n",
    "net = vggish.pretrained()\n",
    "embeddings = net.forward(examples)"
   ]
  },
  {
   "cell_type": "code",
   "execution_count": 4,
   "metadata": {
    "pycharm": {
     "is_executing": false,
     "name": "#%%\n"
    }
   },
   "outputs": [
    {
     "data": {
      "text/plain": [
       "array([[196,   0, 153, ...,  55, 255, 255],\n",
       "       [239,   0, 159, ..., 239, 255, 255],\n",
       "       [248,   0, 163, ..., 252, 255, 255],\n",
       "       ...,\n",
       "       [204,   0, 153, ...,  53, 255, 255],\n",
       "       [231,   0, 160, ..., 255, 255, 255],\n",
       "       [196,   0, 147, ..., 193, 255, 255]], dtype=uint8)"
      ]
     },
     "execution_count": 4,
     "metadata": {},
     "output_type": "execute_result"
    }
   ],
   "source": [
    "# import postprocessor\n",
    "postprocessor = vggish_postprocess.Postprocessor(pca_params_npz_path=\"./vggish_pca_params.npz\")\n",
    "\n",
    "# postprocess embeddings\n",
    "embeddings_batch = embeddings.data.numpy()\n",
    "pca_embeddings = postprocessor.postprocess(embeddings_batch)\n",
    "\n",
    "pca_embeddings\n"
   ]
  }
 ],
 "metadata": {
  "kernelspec": {
   "display_name": "Python 3",
   "language": "python",
   "name": "python3"
  },
  "language_info": {
   "codemirror_mode": {
    "name": "ipython",
    "version": 3
   },
   "file_extension": ".py",
   "mimetype": "text/x-python",
   "name": "python",
   "nbconvert_exporter": "python",
   "pygments_lexer": "ipython3",
   "version": "3.7.3"
  },
  "pycharm": {
   "stem_cell": {
    "cell_type": "raw",
    "metadata": {
     "collapsed": false
    },
    "source": []
   }
  }
 },
 "nbformat": 4,
 "nbformat_minor": 1
}
